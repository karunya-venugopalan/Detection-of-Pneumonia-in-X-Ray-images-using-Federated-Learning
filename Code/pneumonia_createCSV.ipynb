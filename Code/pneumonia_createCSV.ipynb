{
 "cells": [
  {
   "cell_type": "code",
   "execution_count": 1,
   "metadata": {},
   "outputs": [],
   "source": [
    "import pandas as pd\n",
    "import numpy as np\n",
    "from PIL import Image\n",
    "import os"
   ]
  },
  {
   "cell_type": "markdown",
   "metadata": {},
   "source": [
    "# Creating train data"
   ]
  },
  {
   "cell_type": "code",
   "execution_count": 2,
   "metadata": {},
   "outputs": [],
   "source": [
    "cols=['Img_ID']\n",
    "for i in range(1,2501):\n",
    "    s = 'Pixel' + str(i)\n",
    "    cols.append(s)\n",
    "cols.append('Diagnosis')"
   ]
  },
  {
   "cell_type": "code",
   "execution_count": 8,
   "metadata": {},
   "outputs": [],
   "source": [
    "test_df = pd.DataFrame(columns = cols)"
   ]
  },
  {
   "cell_type": "code",
   "execution_count": 9,
   "metadata": {},
   "outputs": [
    {
     "data": {
      "text/html": [
       "<div>\n",
       "<style scoped>\n",
       "    .dataframe tbody tr th:only-of-type {\n",
       "        vertical-align: middle;\n",
       "    }\n",
       "\n",
       "    .dataframe tbody tr th {\n",
       "        vertical-align: top;\n",
       "    }\n",
       "\n",
       "    .dataframe thead th {\n",
       "        text-align: right;\n",
       "    }\n",
       "</style>\n",
       "<table border=\"1\" class=\"dataframe\">\n",
       "  <thead>\n",
       "    <tr style=\"text-align: right;\">\n",
       "      <th></th>\n",
       "      <th>Img_ID</th>\n",
       "      <th>Pixel1</th>\n",
       "      <th>Pixel2</th>\n",
       "      <th>Pixel3</th>\n",
       "      <th>Pixel4</th>\n",
       "      <th>Pixel5</th>\n",
       "      <th>Pixel6</th>\n",
       "      <th>Pixel7</th>\n",
       "      <th>Pixel8</th>\n",
       "      <th>Pixel9</th>\n",
       "      <th>...</th>\n",
       "      <th>Pixel2492</th>\n",
       "      <th>Pixel2493</th>\n",
       "      <th>Pixel2494</th>\n",
       "      <th>Pixel2495</th>\n",
       "      <th>Pixel2496</th>\n",
       "      <th>Pixel2497</th>\n",
       "      <th>Pixel2498</th>\n",
       "      <th>Pixel2499</th>\n",
       "      <th>Pixel2500</th>\n",
       "      <th>Diagnosis</th>\n",
       "    </tr>\n",
       "  </thead>\n",
       "  <tbody>\n",
       "  </tbody>\n",
       "</table>\n",
       "<p>0 rows × 2502 columns</p>\n",
       "</div>"
      ],
      "text/plain": [
       "Empty DataFrame\n",
       "Columns: [Img_ID, Pixel1, Pixel2, Pixel3, Pixel4, Pixel5, Pixel6, Pixel7, Pixel8, Pixel9, Pixel10, Pixel11, Pixel12, Pixel13, Pixel14, Pixel15, Pixel16, Pixel17, Pixel18, Pixel19, Pixel20, Pixel21, Pixel22, Pixel23, Pixel24, Pixel25, Pixel26, Pixel27, Pixel28, Pixel29, Pixel30, Pixel31, Pixel32, Pixel33, Pixel34, Pixel35, Pixel36, Pixel37, Pixel38, Pixel39, Pixel40, Pixel41, Pixel42, Pixel43, Pixel44, Pixel45, Pixel46, Pixel47, Pixel48, Pixel49, Pixel50, Pixel51, Pixel52, Pixel53, Pixel54, Pixel55, Pixel56, Pixel57, Pixel58, Pixel59, Pixel60, Pixel61, Pixel62, Pixel63, Pixel64, Pixel65, Pixel66, Pixel67, Pixel68, Pixel69, Pixel70, Pixel71, Pixel72, Pixel73, Pixel74, Pixel75, Pixel76, Pixel77, Pixel78, Pixel79, Pixel80, Pixel81, Pixel82, Pixel83, Pixel84, Pixel85, Pixel86, Pixel87, Pixel88, Pixel89, Pixel90, Pixel91, Pixel92, Pixel93, Pixel94, Pixel95, Pixel96, Pixel97, Pixel98, Pixel99, ...]\n",
       "Index: []\n",
       "\n",
       "[0 rows x 2502 columns]"
      ]
     },
     "execution_count": 9,
     "metadata": {},
     "output_type": "execute_result"
    }
   ],
   "source": [
    "test_df.head()"
   ]
  },
  {
   "cell_type": "code",
   "execution_count": 16,
   "metadata": {},
   "outputs": [],
   "source": [
    "types = ['PNEUMONIA']"
   ]
  },
  {
   "cell_type": "code",
   "execution_count": 17,
   "metadata": {},
   "outputs": [],
   "source": [
    "for t in types:\n",
    "    s = 'test/' + t\n",
    "    type_images = os.listdir(s)\n",
    "    for i in range(230,390):\n",
    "        img = type_images[i]\n",
    "        img_path = 'test/' + t + '/' + img\n",
    "        image = Image.open(img_path,  'r')\n",
    "        image = image.resize((50,50))\n",
    "        pixels = np.array(image.getdata())\n",
    "        shape = list(pixels.shape)\n",
    "        if len(shape) > 1:\n",
    "            continue\n",
    "        pixels = list(pixels)\n",
    "        pixels.insert(0, img)\n",
    "        pixels.append(t)\n",
    "        test_df.loc[len(test_df)] = pixels"
   ]
  },
  {
   "cell_type": "code",
   "execution_count": 18,
   "metadata": {},
   "outputs": [
    {
     "data": {
      "text/plain": [
       "620"
      ]
     },
     "execution_count": 18,
     "metadata": {},
     "output_type": "execute_result"
    }
   ],
   "source": [
    "len(test_df)"
   ]
  },
  {
   "cell_type": "code",
   "execution_count": 20,
   "metadata": {},
   "outputs": [
    {
     "data": {
      "text/html": [
       "<div>\n",
       "<style scoped>\n",
       "    .dataframe tbody tr th:only-of-type {\n",
       "        vertical-align: middle;\n",
       "    }\n",
       "\n",
       "    .dataframe tbody tr th {\n",
       "        vertical-align: top;\n",
       "    }\n",
       "\n",
       "    .dataframe thead th {\n",
       "        text-align: right;\n",
       "    }\n",
       "</style>\n",
       "<table border=\"1\" class=\"dataframe\">\n",
       "  <thead>\n",
       "    <tr style=\"text-align: right;\">\n",
       "      <th></th>\n",
       "      <th>Img_ID</th>\n",
       "      <th>Pixel1</th>\n",
       "      <th>Pixel2</th>\n",
       "      <th>Pixel3</th>\n",
       "      <th>Pixel4</th>\n",
       "      <th>Pixel5</th>\n",
       "      <th>Pixel6</th>\n",
       "      <th>Pixel7</th>\n",
       "      <th>Pixel8</th>\n",
       "      <th>Pixel9</th>\n",
       "      <th>...</th>\n",
       "      <th>Pixel2492</th>\n",
       "      <th>Pixel2493</th>\n",
       "      <th>Pixel2494</th>\n",
       "      <th>Pixel2495</th>\n",
       "      <th>Pixel2496</th>\n",
       "      <th>Pixel2497</th>\n",
       "      <th>Pixel2498</th>\n",
       "      <th>Pixel2499</th>\n",
       "      <th>Pixel2500</th>\n",
       "      <th>Diagnosis</th>\n",
       "    </tr>\n",
       "  </thead>\n",
       "  <tbody>\n",
       "    <tr>\n",
       "      <th>0</th>\n",
       "      <td>IM-0001-0001.jpeg</td>\n",
       "      <td>29</td>\n",
       "      <td>29</td>\n",
       "      <td>27</td>\n",
       "      <td>27</td>\n",
       "      <td>28</td>\n",
       "      <td>30</td>\n",
       "      <td>28</td>\n",
       "      <td>26</td>\n",
       "      <td>27</td>\n",
       "      <td>...</td>\n",
       "      <td>184</td>\n",
       "      <td>144</td>\n",
       "      <td>166</td>\n",
       "      <td>82</td>\n",
       "      <td>26</td>\n",
       "      <td>29</td>\n",
       "      <td>31</td>\n",
       "      <td>33</td>\n",
       "      <td>34</td>\n",
       "      <td>NORMAL</td>\n",
       "    </tr>\n",
       "    <tr>\n",
       "      <th>1</th>\n",
       "      <td>IM-0003-0001.jpeg</td>\n",
       "      <td>32</td>\n",
       "      <td>71</td>\n",
       "      <td>114</td>\n",
       "      <td>148</td>\n",
       "      <td>149</td>\n",
       "      <td>184</td>\n",
       "      <td>184</td>\n",
       "      <td>182</td>\n",
       "      <td>175</td>\n",
       "      <td>...</td>\n",
       "      <td>197</td>\n",
       "      <td>145</td>\n",
       "      <td>120</td>\n",
       "      <td>16</td>\n",
       "      <td>27</td>\n",
       "      <td>26</td>\n",
       "      <td>33</td>\n",
       "      <td>34</td>\n",
       "      <td>32</td>\n",
       "      <td>NORMAL</td>\n",
       "    </tr>\n",
       "    <tr>\n",
       "      <th>2</th>\n",
       "      <td>IM-0005-0001.jpeg</td>\n",
       "      <td>37</td>\n",
       "      <td>37</td>\n",
       "      <td>33</td>\n",
       "      <td>30</td>\n",
       "      <td>35</td>\n",
       "      <td>39</td>\n",
       "      <td>34</td>\n",
       "      <td>36</td>\n",
       "      <td>31</td>\n",
       "      <td>...</td>\n",
       "      <td>198</td>\n",
       "      <td>182</td>\n",
       "      <td>167</td>\n",
       "      <td>166</td>\n",
       "      <td>88</td>\n",
       "      <td>26</td>\n",
       "      <td>28</td>\n",
       "      <td>33</td>\n",
       "      <td>35</td>\n",
       "      <td>NORMAL</td>\n",
       "    </tr>\n",
       "    <tr>\n",
       "      <th>3</th>\n",
       "      <td>IM-0006-0001.jpeg</td>\n",
       "      <td>83</td>\n",
       "      <td>91</td>\n",
       "      <td>87</td>\n",
       "      <td>81</td>\n",
       "      <td>111</td>\n",
       "      <td>125</td>\n",
       "      <td>134</td>\n",
       "      <td>119</td>\n",
       "      <td>106</td>\n",
       "      <td>...</td>\n",
       "      <td>197</td>\n",
       "      <td>179</td>\n",
       "      <td>200</td>\n",
       "      <td>205</td>\n",
       "      <td>181</td>\n",
       "      <td>164</td>\n",
       "      <td>144</td>\n",
       "      <td>106</td>\n",
       "      <td>145</td>\n",
       "      <td>NORMAL</td>\n",
       "    </tr>\n",
       "    <tr>\n",
       "      <th>4</th>\n",
       "      <td>IM-0007-0001.jpeg</td>\n",
       "      <td>39</td>\n",
       "      <td>35</td>\n",
       "      <td>33</td>\n",
       "      <td>33</td>\n",
       "      <td>28</td>\n",
       "      <td>28</td>\n",
       "      <td>31</td>\n",
       "      <td>33</td>\n",
       "      <td>30</td>\n",
       "      <td>...</td>\n",
       "      <td>193</td>\n",
       "      <td>178</td>\n",
       "      <td>153</td>\n",
       "      <td>92</td>\n",
       "      <td>35</td>\n",
       "      <td>41</td>\n",
       "      <td>43</td>\n",
       "      <td>42</td>\n",
       "      <td>46</td>\n",
       "      <td>NORMAL</td>\n",
       "    </tr>\n",
       "  </tbody>\n",
       "</table>\n",
       "<p>5 rows × 2502 columns</p>\n",
       "</div>"
      ],
      "text/plain": [
       "              Img_ID Pixel1 Pixel2 Pixel3 Pixel4 Pixel5 Pixel6 Pixel7 Pixel8  \\\n",
       "0  IM-0001-0001.jpeg     29     29     27     27     28     30     28     26   \n",
       "1  IM-0003-0001.jpeg     32     71    114    148    149    184    184    182   \n",
       "2  IM-0005-0001.jpeg     37     37     33     30     35     39     34     36   \n",
       "3  IM-0006-0001.jpeg     83     91     87     81    111    125    134    119   \n",
       "4  IM-0007-0001.jpeg     39     35     33     33     28     28     31     33   \n",
       "\n",
       "  Pixel9  ... Pixel2492 Pixel2493 Pixel2494 Pixel2495 Pixel2496 Pixel2497  \\\n",
       "0     27  ...       184       144       166        82        26        29   \n",
       "1    175  ...       197       145       120        16        27        26   \n",
       "2     31  ...       198       182       167       166        88        26   \n",
       "3    106  ...       197       179       200       205       181       164   \n",
       "4     30  ...       193       178       153        92        35        41   \n",
       "\n",
       "  Pixel2498 Pixel2499 Pixel2500 Diagnosis  \n",
       "0        31        33        34    NORMAL  \n",
       "1        33        34        32    NORMAL  \n",
       "2        28        33        35    NORMAL  \n",
       "3       144       106       145    NORMAL  \n",
       "4        43        42        46    NORMAL  \n",
       "\n",
       "[5 rows x 2502 columns]"
      ]
     },
     "execution_count": 20,
     "metadata": {},
     "output_type": "execute_result"
    }
   ],
   "source": [
    "test_df.head()"
   ]
  },
  {
   "cell_type": "code",
   "execution_count": 21,
   "metadata": {},
   "outputs": [],
   "source": [
    "column_list =test_df.columns"
   ]
  },
  {
   "cell_type": "code",
   "execution_count": 22,
   "metadata": {},
   "outputs": [],
   "source": [
    "test_df.to_csv(r'C:\\Users\\Karunya V\\Documents\\sem5\\ML lab\\Package\\test_csv.csv', index=False, header=column_list)"
   ]
  },
  {
   "cell_type": "code",
   "execution_count": null,
   "metadata": {},
   "outputs": [],
   "source": []
  }
 ],
 "metadata": {
  "kernelspec": {
   "display_name": "Python 3",
   "language": "python",
   "name": "python3"
  },
  "language_info": {
   "codemirror_mode": {
    "name": "ipython",
    "version": 3
   },
   "file_extension": ".py",
   "mimetype": "text/x-python",
   "name": "python",
   "nbconvert_exporter": "python",
   "pygments_lexer": "ipython3",
   "version": "3.7.4"
  }
 },
 "nbformat": 4,
 "nbformat_minor": 4
}
