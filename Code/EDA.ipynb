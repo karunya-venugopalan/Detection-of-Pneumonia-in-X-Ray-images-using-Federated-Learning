{
 "cells": [
  {
   "cell_type": "code",
   "execution_count": 15,
   "metadata": {},
   "outputs": [],
   "source": [
    "import pandas as pd\n",
    "import seaborn as sns"
   ]
  },
  {
   "cell_type": "code",
   "execution_count": 16,
   "metadata": {},
   "outputs": [],
   "source": [
    "client1_train = pd.read_csv(r\"C:\\Users\\Karunya V\\Documents\\sem5\\ML lab\\Package\\chest_xray\\data\\client1_train.csv\")\n",
    "client1_test = pd.read_csv(r\"C:\\Users\\Karunya V\\Documents\\sem5\\ML lab\\Package\\chest_xray\\data\\client1_test.csv\")\n",
    "client2_train = pd.read_csv(r\"C:\\Users\\Karunya V\\Documents\\sem5\\ML lab\\Package\\chest_xray\\data\\client2_train.csv\")\n",
    "client2_test = pd.read_csv(r\"C:\\Users\\Karunya V\\Documents\\sem5\\ML lab\\Package\\chest_xray\\data\\client2_test.csv\")\n",
    "client3_train = pd.read_csv(r\"C:\\Users\\Karunya V\\Documents\\sem5\\ML lab\\Package\\chest_xray\\data\\client3_train.csv\")\n",
    "client3_test = pd.read_csv(r\"C:\\Users\\Karunya V\\Documents\\sem5\\ML lab\\Package\\chest_xray\\data\\client3_test.csv\")"
   ]
  },
  {
   "cell_type": "code",
   "execution_count": 19,
   "metadata": {},
   "outputs": [],
   "source": [
    "client1_train[\"client_name\"] = \"client1\"\n",
    "client2_train[\"client_name\"] = \"client2\"\n",
    "client3_train[\"client_name\"] = \"client3\""
   ]
  },
  {
   "cell_type": "code",
   "execution_count": 20,
   "metadata": {},
   "outputs": [
    {
     "data": {
      "text/html": [
       "<div>\n",
       "<style scoped>\n",
       "    .dataframe tbody tr th:only-of-type {\n",
       "        vertical-align: middle;\n",
       "    }\n",
       "\n",
       "    .dataframe tbody tr th {\n",
       "        vertical-align: top;\n",
       "    }\n",
       "\n",
       "    .dataframe thead th {\n",
       "        text-align: right;\n",
       "    }\n",
       "</style>\n",
       "<table border=\"1\" class=\"dataframe\">\n",
       "  <thead>\n",
       "    <tr style=\"text-align: right;\">\n",
       "      <th></th>\n",
       "      <th>Unnamed: 0</th>\n",
       "      <th>Unnamed: 0.1</th>\n",
       "      <th>Img_ID</th>\n",
       "      <th>Pixel1</th>\n",
       "      <th>Pixel2</th>\n",
       "      <th>Pixel3</th>\n",
       "      <th>Pixel4</th>\n",
       "      <th>Pixel5</th>\n",
       "      <th>Pixel6</th>\n",
       "      <th>Pixel7</th>\n",
       "      <th>...</th>\n",
       "      <th>Pixel2493</th>\n",
       "      <th>Pixel2494</th>\n",
       "      <th>Pixel2495</th>\n",
       "      <th>Pixel2496</th>\n",
       "      <th>Pixel2497</th>\n",
       "      <th>Pixel2498</th>\n",
       "      <th>Pixel2499</th>\n",
       "      <th>Pixel2500</th>\n",
       "      <th>Diagnosis</th>\n",
       "      <th>client_name</th>\n",
       "    </tr>\n",
       "  </thead>\n",
       "  <tbody>\n",
       "    <tr>\n",
       "      <th>0</th>\n",
       "      <td>2772</td>\n",
       "      <td>2772</td>\n",
       "      <td>person17_bacteria_56.jpeg</td>\n",
       "      <td>0</td>\n",
       "      <td>0</td>\n",
       "      <td>27</td>\n",
       "      <td>48</td>\n",
       "      <td>62</td>\n",
       "      <td>71</td>\n",
       "      <td>84</td>\n",
       "      <td>...</td>\n",
       "      <td>128</td>\n",
       "      <td>147</td>\n",
       "      <td>108</td>\n",
       "      <td>64</td>\n",
       "      <td>6</td>\n",
       "      <td>0</td>\n",
       "      <td>0</td>\n",
       "      <td>0</td>\n",
       "      <td>1</td>\n",
       "      <td>client1</td>\n",
       "    </tr>\n",
       "    <tr>\n",
       "      <th>1</th>\n",
       "      <td>462</td>\n",
       "      <td>462</td>\n",
       "      <td>IM-0628-0001.jpeg</td>\n",
       "      <td>89</td>\n",
       "      <td>94</td>\n",
       "      <td>88</td>\n",
       "      <td>133</td>\n",
       "      <td>122</td>\n",
       "      <td>129</td>\n",
       "      <td>106</td>\n",
       "      <td>...</td>\n",
       "      <td>164</td>\n",
       "      <td>180</td>\n",
       "      <td>104</td>\n",
       "      <td>54</td>\n",
       "      <td>5</td>\n",
       "      <td>0</td>\n",
       "      <td>0</td>\n",
       "      <td>0</td>\n",
       "      <td>0</td>\n",
       "      <td>client1</td>\n",
       "    </tr>\n",
       "    <tr>\n",
       "      <th>2</th>\n",
       "      <td>2263</td>\n",
       "      <td>2263</td>\n",
       "      <td>NORMAL2-IM-1338-0001.jpeg</td>\n",
       "      <td>113</td>\n",
       "      <td>146</td>\n",
       "      <td>171</td>\n",
       "      <td>168</td>\n",
       "      <td>203</td>\n",
       "      <td>193</td>\n",
       "      <td>194</td>\n",
       "      <td>...</td>\n",
       "      <td>99</td>\n",
       "      <td>10</td>\n",
       "      <td>0</td>\n",
       "      <td>0</td>\n",
       "      <td>0</td>\n",
       "      <td>0</td>\n",
       "      <td>0</td>\n",
       "      <td>1</td>\n",
       "      <td>0</td>\n",
       "      <td>client1</td>\n",
       "    </tr>\n",
       "    <tr>\n",
       "      <th>3</th>\n",
       "      <td>1396</td>\n",
       "      <td>1396</td>\n",
       "      <td>person1227_bacteria_3182.jpeg</td>\n",
       "      <td>0</td>\n",
       "      <td>0</td>\n",
       "      <td>13</td>\n",
       "      <td>12</td>\n",
       "      <td>12</td>\n",
       "      <td>19</td>\n",
       "      <td>29</td>\n",
       "      <td>...</td>\n",
       "      <td>34</td>\n",
       "      <td>10</td>\n",
       "      <td>14</td>\n",
       "      <td>13</td>\n",
       "      <td>13</td>\n",
       "      <td>167</td>\n",
       "      <td>0</td>\n",
       "      <td>0</td>\n",
       "      <td>1</td>\n",
       "      <td>client1</td>\n",
       "    </tr>\n",
       "    <tr>\n",
       "      <th>4</th>\n",
       "      <td>1289</td>\n",
       "      <td>1289</td>\n",
       "      <td>person1164_bacteria_3110.jpeg</td>\n",
       "      <td>17</td>\n",
       "      <td>39</td>\n",
       "      <td>55</td>\n",
       "      <td>82</td>\n",
       "      <td>99</td>\n",
       "      <td>79</td>\n",
       "      <td>70</td>\n",
       "      <td>...</td>\n",
       "      <td>102</td>\n",
       "      <td>106</td>\n",
       "      <td>105</td>\n",
       "      <td>51</td>\n",
       "      <td>7</td>\n",
       "      <td>0</td>\n",
       "      <td>0</td>\n",
       "      <td>0</td>\n",
       "      <td>1</td>\n",
       "      <td>client1</td>\n",
       "    </tr>\n",
       "  </tbody>\n",
       "</table>\n",
       "<p>5 rows × 2505 columns</p>\n",
       "</div>"
      ],
      "text/plain": [
       "   Unnamed: 0  Unnamed: 0.1                         Img_ID  Pixel1  Pixel2  \\\n",
       "0        2772          2772      person17_bacteria_56.jpeg       0       0   \n",
       "1         462           462              IM-0628-0001.jpeg      89      94   \n",
       "2        2263          2263      NORMAL2-IM-1338-0001.jpeg     113     146   \n",
       "3        1396          1396  person1227_bacteria_3182.jpeg       0       0   \n",
       "4        1289          1289  person1164_bacteria_3110.jpeg      17      39   \n",
       "\n",
       "   Pixel3  Pixel4  Pixel5  Pixel6  Pixel7  ...  Pixel2493  Pixel2494  \\\n",
       "0      27      48      62      71      84  ...        128        147   \n",
       "1      88     133     122     129     106  ...        164        180   \n",
       "2     171     168     203     193     194  ...         99         10   \n",
       "3      13      12      12      19      29  ...         34         10   \n",
       "4      55      82      99      79      70  ...        102        106   \n",
       "\n",
       "   Pixel2495  Pixel2496  Pixel2497  Pixel2498  Pixel2499  Pixel2500  \\\n",
       "0        108         64          6          0          0          0   \n",
       "1        104         54          5          0          0          0   \n",
       "2          0          0          0          0          0          1   \n",
       "3         14         13         13        167          0          0   \n",
       "4        105         51          7          0          0          0   \n",
       "\n",
       "   Diagnosis  client_name  \n",
       "0          1      client1  \n",
       "1          0      client1  \n",
       "2          0      client1  \n",
       "3          1      client1  \n",
       "4          1      client1  \n",
       "\n",
       "[5 rows x 2505 columns]"
      ]
     },
     "execution_count": 20,
     "metadata": {},
     "output_type": "execute_result"
    }
   ],
   "source": [
    "client1_train.head()"
   ]
  },
  {
   "cell_type": "code",
   "execution_count": 21,
   "metadata": {},
   "outputs": [],
   "source": [
    "train_frames = [client1_train,client2_train,client3_train]\n",
    "train = pd.concat(train_frames)"
   ]
  },
  {
   "cell_type": "code",
   "execution_count": 36,
   "metadata": {},
   "outputs": [
    {
     "data": {
      "image/png": "[encoded data removed]",
      "text/plain": [
       "<Figure size 432x288 with 1 Axes>"
      ]
     },
     "metadata": {
      "needs_background": "light"
     },
     "output_type": "display_data"
    }
   ],
   "source": [
    "clients = ['client1','client2','clinet3']\n",
    "ax = sns.countplot(x=\"client_name\", hue=\"Diagnosis\", data=train,palette=\"BrBG\").set_title('Train data Split')"
   ]
  },
  {
   "cell_type": "code",
   "execution_count": 23,
   "metadata": {},
   "outputs": [],
   "source": [
    "client1_test[\"client_name\"] = \"client1\"\n",
    "client2_test[\"client_name\"] = \"client2\"\n",
    "client3_test[\"client_name\"] = \"client3\""
   ]
  },
  {
   "cell_type": "code",
   "execution_count": 24,
   "metadata": {},
   "outputs": [],
   "source": [
    "test_frames = [client1_test,client2_test,client3_test]\n",
    "test = pd.concat(test_frames)"
   ]
  },
  {
   "cell_type": "code",
   "execution_count": 38,
   "metadata": {},
   "outputs": [
    {
     "data": {
      "image/png": "[encoded data removed]",
      "text/plain": [
       "<Figure size 432x288 with 1 Axes>"
      ]
     },
     "metadata": {
      "needs_background": "light"
     },
     "output_type": "display_data"
    }
   ],
   "source": [
    "clients = ['client1','client2','clinet3']\n",
    "ax = sns.countplot(x=\"client_name\", hue=\"Diagnosis\", data=test, palette=\"BrBG\").set_title('Test data Split')"
   ]
  },
  {
   "cell_type": "code",
   "execution_count": null,
   "metadata": {},
   "outputs": [],
   "source": []
  }
 ],
 "metadata": {
  "kernelspec": {
   "display_name": "Python 3",
   "language": "python",
   "name": "python3"
  },
  "language_info": {
   "codemirror_mode": {
    "name": "ipython",
    "version": 3
   },
   "file_extension": ".py",
   "mimetype": "text/x-python",
   "name": "python",
   "nbconvert_exporter": "python",
   "pygments_lexer": "ipython3",
   "version": "3.7.4"
  }
 },
 "nbformat": 4,
 "nbformat_minor": 2
}
